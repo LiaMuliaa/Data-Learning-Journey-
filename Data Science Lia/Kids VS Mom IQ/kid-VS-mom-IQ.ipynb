{
 "cells": [
  {
   "cell_type": "code",
   "execution_count": 4,
   "metadata": {},
   "outputs": [],
   "source": [
    "import numpy as np \n",
    "import pandas as pd \n",
    "import seaborn as sns\n",
    "import matplotlib.pyplot as plt\n",
    "import plotly\n",
    "import plotly.express as px"
   ]
  },
  {
   "cell_type": "code",
   "execution_count": 5,
   "metadata": {},
   "outputs": [],
   "source": [
    "dataKid = pd.read_csv('https://github.com/LiaMuliaa/Data-Learning-Journey-/raw/main/Data%20Science%20Lia/Kids%20VS%20Mom%20IQ/kid_iq.csv'); "
   ]
  },
  {
   "cell_type": "code",
   "execution_count": 3,
   "metadata": {},
   "outputs": [
    {
     "name": "stdout",
     "output_type": "stream",
     "text": [
      "<class 'pandas.core.frame.DataFrame'>\n",
      "RangeIndex: 434 entries, 0 to 433\n",
      "Data columns (total 6 columns):\n",
      " #   Column      Non-Null Count  Dtype  \n",
      "---  ------      --------------  -----  \n",
      " 0   Unnamed: 0  434 non-null    int64  \n",
      " 1   kid_score   434 non-null    int64  \n",
      " 2   mom_hs      434 non-null    int64  \n",
      " 3   mom_iq      434 non-null    float64\n",
      " 4   mom_work    434 non-null    int64  \n",
      " 5   mom_age     434 non-null    int64  \n",
      "dtypes: float64(1), int64(5)\n",
      "memory usage: 20.5 KB\n"
     ]
    }
   ],
   "source": [
    "dataKid.info()"
   ]
  },
  {
   "cell_type": "markdown",
   "metadata": {},
   "source": [
    "dataKid -> kid's score (kid_score), if the mother went to high school or not (mom_hs), on the mother's IQ (mom_iq), on her job (mom_work), and her age (mom_age)."
   ]
  },
  {
   "cell_type": "code",
   "execution_count": null,
   "metadata": {},
   "outputs": [],
   "source": []
  }
 ],
 "metadata": {
  "kernelspec": {
   "display_name": "Python 3",
   "language": "python",
   "name": "python3"
  },
  "language_info": {
   "codemirror_mode": {
    "name": "ipython",
    "version": 3
   },
   "file_extension": ".py",
   "mimetype": "text/x-python",
   "name": "python",
   "nbconvert_exporter": "python",
   "pygments_lexer": "ipython3",
   "version": "3.12.1"
  }
 },
 "nbformat": 4,
 "nbformat_minor": 2
}
